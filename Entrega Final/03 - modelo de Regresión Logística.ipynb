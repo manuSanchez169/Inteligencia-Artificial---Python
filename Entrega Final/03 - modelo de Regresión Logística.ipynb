{
 "cells": [
  {
   "cell_type": "markdown",
   "id": "d52e6609",
   "metadata": {
    "id": "d52e6609"
   },
   "source": [
    "# Entrega Final\n",
    "## Limpieza y preprocesado y creación de modelo Regresion Logística\n",
    "Este notebook contiene una exploración básica, operaciones de limpieza y prepocesado de datos, asi como la creacion del modelo de Regresion Logística."
   ]
  },
  {
   "cell_type": "code",
   "execution_count": null,
   "id": "a94761a0",
   "metadata": {
    "colab": {
     "base_uri": "https://localhost:8080/"
    },
    "id": "a94761a0",
    "outputId": "967ab6f0-1e0a-4731-f21f-1af5d4f383ce"
   },
   "outputs": [],
   "source": [
    "# Importar librerías\n",
    "import pandas as pd\n",
    "import numpy as np\n",
    "import matplotlib.pyplot as plt\n",
    "from sklearn.experimental import enable_hist_gradient_boosting\n",
    "from sklearn.ensemble import HistGradientBoostingClassifier\n",
    "from sklearn.model_selection import train_test_split\n",
    "from sklearn.preprocessing import LabelEncoder, StandardScaler\n",
    "from sklearn.linear_model import LogisticRegression\n",
    "from sklearn.ensemble import RandomForestClassifier\n",
    "from sklearn.ensemble import GradientBoostingClassifier\n",
    "from sklearn.preprocessing import MinMaxScaler\n",
    "from sklearn.impute import SimpleImputer\n",
    "from sklearn.metrics import classification_report, accuracy_score"
   ]
  },
  {
   "cell_type": "code",
   "execution_count": null,
   "id": "GXRDROIjmPjN",
   "metadata": {
    "colab": {
     "base_uri": "https://localhost:8080/",
     "height": 90
    },
    "id": "GXRDROIjmPjN",
    "outputId": "b0925d2d-4437-40a0-d335-f89a21897370"
   },
   "outputs": [],
   "source": [
    "from google.colab import files\n",
    "\n",
    "files.upload()"
   ]
  },
  {
   "cell_type": "code",
   "execution_count": null,
   "id": "0X7JcU75lTtK",
   "metadata": {
    "colab": {
     "base_uri": "https://localhost:8080/"
    },
    "id": "0X7JcU75lTtK",
    "outputId": "71a200be-fd54-497a-df01-73dfbb92416a"
   },
   "outputs": [],
   "source": [
    "# cargar archivo kaggle.json\n",
    "import os\n",
    "os.environ['KAGGLE_CONFIG_DIR'] = '/content'\n",
    "!chmod 600 /content/kaggle.json\n",
    "!kaggle competitions download -c udea-ai4eng-20242"
   ]
  },
  {
   "cell_type": "code",
   "execution_count": null,
   "id": "N3Ww9744m8Km",
   "metadata": {
    "colab": {
     "base_uri": "https://localhost:8080/"
    },
    "id": "N3Ww9744m8Km",
    "outputId": "c6152952-4274-43a3-e55e-636a062027a1"
   },
   "outputs": [],
   "source": [
    "# descomprimir archivos\n",
    "!unzip udea*.zip > /dev/null\n",
    "!wc *.csv"
   ]
  },
  {
   "cell_type": "code",
   "execution_count": null,
   "id": "58443b69",
   "metadata": {
    "colab": {
     "base_uri": "https://localhost:8080/",
     "height": 313
    },
    "collapsed": true,
    "id": "58443b69",
    "outputId": "0e5951d8-21ba-4048-cbde-b0b5589d8d44"
   },
   "outputs": [],
   "source": [
    "# Cargar archivo train.csv\n",
    "file = \"train.csv\"\n",
    "df_train = pd.read_csv(file)\n",
    "df_train.head()"
   ]
  },
  {
   "cell_type": "markdown",
   "id": "87ad69d3",
   "metadata": {
    "id": "87ad69d3"
   },
   "source": [
    "## Exploración de datos\n",
    "### Número de estudiantes por programa académico"
   ]
  },
  {
   "cell_type": "code",
   "execution_count": null,
   "id": "e4354963",
   "metadata": {
    "colab": {
     "base_uri": "https://localhost:8080/",
     "height": 272
    },
    "collapsed": true,
    "id": "e4354963",
    "outputId": "53def023-9651-44ea-af3a-488141bf9d67"
   },
   "outputs": [],
   "source": [
    "# Cantidad de estudiantes por programa\n",
    "df_estudiantes_por_programa = df_train[\"ESTU_PRGM_ACADEMICO\"].value_counts()\n",
    "df_estudiantes_por_programa.head()"
   ]
  },
  {
   "cell_type": "markdown",
   "id": "e41fe62b",
   "metadata": {
    "id": "e41fe62b"
   },
   "source": [
    "### Número de estudiantes por departamento"
   ]
  },
  {
   "cell_type": "code",
   "execution_count": null,
   "id": "640201d6",
   "metadata": {
    "colab": {
     "base_uri": "https://localhost:8080/",
     "height": 272
    },
    "collapsed": true,
    "id": "640201d6",
    "outputId": "80fbc17c-f5e8-4d86-d50c-fa8e313c91cf"
   },
   "outputs": [],
   "source": [
    "# Cantidad de estudiantes por departamento\n",
    "df_estudiantes_por_departamento = df_train[\"ESTU_PRGM_DEPARTAMENTO\"].value_counts()\n",
    "df_estudiantes_por_departamento.head()"
   ]
  },
  {
   "cell_type": "markdown",
   "id": "f06d4af0",
   "metadata": {
    "id": "f06d4af0"
   },
   "source": [
    "### Gráfico de horas semanales que trabajan los estudiantes"
   ]
  },
  {
   "cell_type": "code",
   "execution_count": null,
   "id": "3738d92d",
   "metadata": {
    "colab": {
     "base_uri": "https://localhost:8080/",
     "height": 692
    },
    "collapsed": true,
    "id": "3738d92d",
    "outputId": "5a4a27a0-5f16-4a76-bfe9-c3b744a57958"
   },
   "outputs": [],
   "source": [
    "# Cantidad de horas que trabajan los estudiantes a la semana\n",
    "df_trabajo_por_semana_estudiantes = df_train[\"ESTU_HORASSEMANATRABAJA\"].value_counts()\n",
    "\n",
    "# Crear gráfico\n",
    "fig, ax = plt.subplots(figsize=(10, 6))\n",
    "df_trabajo_por_semana_estudiantes.plot(kind=\"bar\", ax=ax, color=\"firebrick\")\n",
    "plt.title(\"Horas semanales trabajadas por Estudiantes\", fontsize=16)\n",
    "plt.xlabel(\"Cantidad de Horas\", fontsize=12)\n",
    "plt.ylabel(\"Cantidad de Estudiantes\", fontsize=12)\n",
    "plt.xticks(rotation=75)\n",
    "plt.show()"
   ]
  },
  {
   "cell_type": "markdown",
   "id": "93fa3664",
   "metadata": {
    "id": "93fa3664"
   },
   "source": [
    "### Gráfico de comparativa entre el valor de la matrícula del estudiante y el estrato de vivienda familiar"
   ]
  },
  {
   "cell_type": "code",
   "execution_count": null,
   "id": "bc9eee65",
   "metadata": {
    "colab": {
     "base_uri": "https://localhost:8080/",
     "height": 838
    },
    "collapsed": true,
    "id": "bc9eee65",
    "outputId": "c9f04f06-c7ce-453c-ab87-b92249b01b34"
   },
   "outputs": [],
   "source": [
    "# Agrupar datos por valor de matrícula y estrato socioeconómico, y contar la cantidad de estudiantes\n",
    "data_agrupada = (\n",
    "    df_train.groupby([\"ESTU_VALORMATRICULAUNIVERSIDAD\", \"FAMI_ESTRATOVIVIENDA\"])\n",
    "    .size()\n",
    "    .unstack()\n",
    ")\n",
    "\n",
    "# Crear gráfico\n",
    "fig, ax = plt.subplots(figsize=(10, 6))\n",
    "data_agrupada.plot(kind=\"bar\", ax=ax)\n",
    "plt.title(\"Valor de Matrícula de Estudiante según Estrato Socioeconómico\", fontsize=16)\n",
    "plt.xlabel(\"Valor Matrícula Estudiante\", fontsize=12)\n",
    "plt.ylabel(\"Cantidad de Estudiantes\", fontsize=12)\n",
    "plt.xticks(rotation=75)\n",
    "plt.legend(title=\"Estrato Socioeconómico\")\n",
    "plt.show()"
   ]
  },
  {
   "cell_type": "markdown",
   "id": "C07ZukjWENyK",
   "metadata": {
    "id": "C07ZukjWENyK"
   },
   "source": [
    "## Preprocesado de datos\n",
    "### Imputación de Datos Faltantes"
   ]
  },
  {
   "cell_type": "code",
   "execution_count": null,
   "id": "x3n-ofhnHB-1",
   "metadata": {
    "colab": {
     "base_uri": "https://localhost:8080/"
    },
    "id": "x3n-ofhnHB-1",
    "outputId": "10cc5236-0535-4a4e-e828-991f51cd8bf6"
   },
   "outputs": [],
   "source": [
    "# Separar las columnas numéricas y categóricas\n",
    "columnas_numericas = df_train.select_dtypes(include=[\"float64\", \"int64\"]).columns\n",
    "columnas_categoricas = df_train.select_dtypes(include=[\"object\"]).columns\n",
    "\n",
    "# Imputar columnas numéricas con la media (promedio)\n",
    "imputar_numericas = SimpleImputer(strategy=\"mean\")\n",
    "df_train[columnas_numericas] = imputar_numericas.fit_transform(\n",
    "    df_train[columnas_numericas]\n",
    ")\n",
    "\n",
    "# Imputar columnas categóricas con la moda (más frecuente)\n",
    "imputar_categoricas = SimpleImputer(strategy=\"most_frequent\")\n",
    "df_train[columnas_categoricas] = imputar_categoricas.fit_transform(\n",
    "    df_train[columnas_categoricas]\n",
    ")\n",
    "\n",
    "# Verificar si quedan valores faltantes\n",
    "print(\"Valores faltantes después de la imputación:\")\n",
    "print(df_train.isnull().sum())"
   ]
  },
  {
   "cell_type": "markdown",
   "id": "GFEI-LnAJIhj",
   "metadata": {
    "id": "GFEI-LnAJIhj"
   },
   "source": [
    "### Normalización de Valores Numéricos"
   ]
  },
  {
   "cell_type": "code",
   "execution_count": null,
   "id": "0vcDT25sJJlp",
   "metadata": {
    "colab": {
     "base_uri": "https://localhost:8080/"
    },
    "id": "0vcDT25sJJlp",
    "outputId": "2d662dba-2e20-46e1-d2be-d33b58e53086"
   },
   "outputs": [],
   "source": [
    "# Crear un objeto MinMaxScaler\n",
    "scaler = MinMaxScaler()\n",
    "\n",
    "# Aplicar la normalización a las columnas numéricas\n",
    "df_train[columnas_numericas] = scaler.fit_transform(df_train[columnas_numericas])\n",
    "\n",
    "# Verificar los datos normalizados\n",
    "print(\"Datos normalizados:\")\n",
    "print(df_train[columnas_numericas].head())"
   ]
  },
  {
   "cell_type": "markdown",
   "id": "0CHznvpMKh11",
   "metadata": {
    "id": "0CHznvpMKh11"
   },
   "source": [
    "### Detección y Eliminación de Valores Atípicos (Outliers) en `ESTU_HORASSEMANATRABAJA`"
   ]
  },
  {
   "cell_type": "code",
   "execution_count": null,
   "id": "feWBmZkyl3Yt",
   "metadata": {
    "id": "feWBmZkyl3Yt"
   },
   "outputs": [],
   "source": [
    "# inicializar variable que contiene columna\n",
    "column = \"ESTU_HORASSEMANATRABAJA\""
   ]
  },
  {
   "cell_type": "code",
   "execution_count": null,
   "id": "6mvgifWIMq5U",
   "metadata": {
    "colab": {
     "base_uri": "https://localhost:8080/"
    },
    "id": "6mvgifWIMq5U",
    "outputId": "d131471b-6261-4e4e-e0c3-d8ad47dacb36"
   },
   "outputs": [],
   "source": [
    "# Convertir la columna 'ESTU_HORASSEMANATRABAJA' a numérico, forzando valores no numéricos a NaN\n",
    "df_train[column] = pd.to_numeric(df_train[column], errors=\"coerce\")\n",
    "\n",
    "# Verificar si hay valores NaN después de la conversión\n",
    "print(f\"Valores faltantes en '{column}' después de la conversión:\")\n",
    "print(df_train[column].isnull().sum())\n",
    "\n",
    "# Llenar valores faltantes con la media (promedio)\n",
    "df_train[column].fillna(df_train[column].mean(), inplace=True)"
   ]
  },
  {
   "cell_type": "code",
   "execution_count": null,
   "id": "e9EYKNngLQD9",
   "metadata": {
    "colab": {
     "base_uri": "https://localhost:8080/"
    },
    "id": "e9EYKNngLQD9",
    "outputId": "30fec8d1-107f-46c5-943f-e9231ba9d5ee"
   },
   "outputs": [],
   "source": [
    "# Calcular los límites para detectar outliers usando el IQR en la columna 'ESTU_HORASSEMANATRABAJA'\n",
    "Q1 = df_train[column].quantile(0.25)\n",
    "Q3 = df_train[column].quantile(0.75)\n",
    "IQR = Q3 - Q1\n",
    "\n",
    "# Definir los límites inferior y superior\n",
    "limite_inferior = Q1 - 1.5 * IQR\n",
    "limite_superior = Q3 + 1.5 * IQR\n",
    "\n",
    "# Filtrar el DataFrame eliminando los outliers\n",
    "df_sin_outliers = df_train[\n",
    "    (df_train[column] >= limite_inferior) & (df_train[column] <= limite_superior)\n",
    "]\n",
    "\n",
    "# Verificar cuántos valores se eliminaron\n",
    "print(f\"Valores originales: {len(df_train)}\")\n",
    "print(f\"Valores después de eliminar outliers: {len(df_sin_outliers)}\")\n",
    "\n",
    "if len(df_train) == len(df_sin_outliers):\n",
    "    print(f\"No se encontraron outliers en la columna '{column}'\")\n",
    "\n",
    "# Ver los primeros valores después de eliminar los outliers\n",
    "print(df_sin_outliers.head())"
   ]
  },
  {
   "cell_type": "code",
   "execution_count": null,
   "id": "9WsuvPgt3VUG",
   "metadata": {
    "id": "9WsuvPgt3VUG"
   },
   "outputs": [],
   "source": [
    "# Reducción de memoria: cambiar el tipo de columnas numéricas\n",
    "for col in df_train.select_dtypes(include=[\"int\", \"float\"]).columns:\n",
    "    df_train[col] = pd.to_numeric(df_train[col], downcast=\"integer\")"
   ]
  },
  {
   "cell_type": "code",
   "execution_count": null,
   "id": "NGZmksu63wek",
   "metadata": {
    "id": "NGZmksu63wek"
   },
   "outputs": [],
   "source": [
    "# Codificación de variables categóricas\n",
    "label_encoder = LabelEncoder()\n",
    "df_train[\"RENDIMIENTO_GLOBAL\"] = label_encoder.fit_transform(\n",
    "    df_train[\"RENDIMIENTO_GLOBAL\"]\n",
    ")\n",
    "for col in df_train.select_dtypes(include=[\"object\"]).columns:\n",
    "    df_train[col] = label_encoder.fit_transform(df_train[col])"
   ]
  },
  {
   "cell_type": "markdown",
   "id": "H2b8dHEP3M97",
   "metadata": {
    "id": "H2b8dHEP3M97"
   },
   "source": [
    "## Creación de modelo Regresion Logística\n",
    "### Dividir variables X y Y en entrenamiento y prueba"
   ]
  },
  {
   "cell_type": "code",
   "execution_count": null,
   "id": "s2eDcWA43SIM",
   "metadata": {
    "id": "s2eDcWA43SIM"
   },
   "outputs": [],
   "source": [
    "# Separar variables predictoras y objetivo\n",
    "X = df_train.drop(columns=[\"RENDIMIENTO_GLOBAL\", \"ID\"])\n",
    "y = df_train[\"RENDIMIENTO_GLOBAL\"]"
   ]
  },
  {
   "cell_type": "code",
   "execution_count": null,
   "id": "DJTclUFC3yoN",
   "metadata": {
    "id": "DJTclUFC3yoN"
   },
   "outputs": [],
   "source": [
    "# Dividir el conjunto de datos para validación\n",
    "X_train, X_val, y_train, y_val = train_test_split(X, y, test_size=0.2, random_state=42)"
   ]
  },
  {
   "cell_type": "markdown",
   "id": "0rYTYqb2_Cx4",
   "metadata": {
    "id": "0rYTYqb2_Cx4"
   },
   "source": [
    "### Definición de modelo Regresion Logística"
   ]
  },
  {
   "cell_type": "code",
   "execution_count": null,
   "id": "dBzrDZan4Mrf",
   "metadata": {
    "colab": {
     "base_uri": "https://localhost:8080/"
    },
    "id": "dBzrDZan4Mrf",
    "outputId": "c3803460-ce7a-4e9c-fec5-28d0b6f5687c"
   },
   "outputs": [],
   "source": [
    "# Creacion modelo Regresion logistica\n",
    "modelo_rl = LogisticRegression(max_iter=200, random_state=42)\n",
    "modelo_rl.fit(X_train, y_train)\n",
    "y_pred_rl = modelo_rl.predict(X_val)\n",
    "precision_rl = accuracy_score(y_val, y_pred_rl)\n",
    "\n",
    "print(\"Precisión con Regresión Logística:\", precision_rl)"
   ]
  },
  {
   "cell_type": "markdown",
   "id": "1UrgSGKQeVpS",
   "metadata": {
    "id": "1UrgSGKQeVpS"
   },
   "source": [
    "## Aplicar procedimiento a datos de prueba"
   ]
  },
  {
   "cell_type": "code",
   "execution_count": null,
   "id": "-LSBbr3Pea4p",
   "metadata": {
    "id": "-LSBbr3Pea4p"
   },
   "outputs": [],
   "source": [
    "file = \"test.csv\"\n",
    "df_test = pd.read_csv(file)"
   ]
  },
  {
   "cell_type": "markdown",
   "id": "euvSvD4t_cMt",
   "metadata": {
    "id": "euvSvD4t_cMt"
   },
   "source": [
    "### Imputar valores faltantes a df_test"
   ]
  },
  {
   "cell_type": "code",
   "execution_count": null,
   "id": "6p0A-UjEnHYG",
   "metadata": {
    "id": "6p0A-UjEnHYG"
   },
   "outputs": [],
   "source": [
    "# Imputar valores faltantes en `df_test`\n",
    "df_test[columnas_numericas] = imputar_numericas.transform(df_test[columnas_numericas])\n",
    "df_test[columnas_categoricas] = imputar_categoricas.transform(\n",
    "    df_test[columnas_categoricas]\n",
    ")"
   ]
  },
  {
   "cell_type": "markdown",
   "id": "MzSYDOoE_htn",
   "metadata": {
    "id": "MzSYDOoE_htn"
   },
   "source": [
    "### Normalización de valores"
   ]
  },
  {
   "cell_type": "code",
   "execution_count": null,
   "id": "8ai55s515fLq",
   "metadata": {
    "id": "8ai55s515fLq"
   },
   "outputs": [],
   "source": [
    "# Normalizar las columnas numéricas en `df_test`\n",
    "df_test[columnas_numericas] = scaler.transform(df_test[columnas_numericas])"
   ]
  },
  {
   "cell_type": "markdown",
   "id": "AsMnRgDo_kVt",
   "metadata": {
    "id": "AsMnRgDo_kVt"
   },
   "source": [
    "### Codificación de variables categóricas"
   ]
  },
  {
   "cell_type": "code",
   "execution_count": null,
   "id": "o16FEyN65gaA",
   "metadata": {
    "id": "o16FEyN65gaA"
   },
   "outputs": [],
   "source": [
    "# Codificación de variables categóricas en `df_test`\n",
    "for col in df_test.select_dtypes(include=[\"object\"]).columns:\n",
    "    df_test[col] = label_encoder.transform(df_test[col])"
   ]
  },
  {
   "cell_type": "markdown",
   "id": "aYpzDJxj_pfS",
   "metadata": {
    "id": "aYpzDJxj_pfS"
   },
   "source": [
    "### Predicción de los datos de prueba con el modelo creado"
   ]
  },
  {
   "cell_type": "code",
   "execution_count": null,
   "id": "sDO44nQC5hzk",
   "metadata": {
    "id": "sDO44nQC5hzk"
   },
   "outputs": [],
   "source": [
    "# Predicción en los datos de prueba\n",
    "X_test = df_test.drop(columns=[\"ID\"])\n",
    "predicciones = modelo_rl.predict(X_test)"
   ]
  },
  {
   "cell_type": "markdown",
   "id": "sqMxp0g8_yFI",
   "metadata": {
    "id": "sqMxp0g8_yFI"
   },
   "source": [
    "### Crear dataframe para guardar predicción"
   ]
  },
  {
   "cell_type": "code",
   "execution_count": null,
   "id": "o2owLgkG5jZX",
   "metadata": {
    "id": "o2owLgkG5jZX"
   },
   "outputs": [],
   "source": [
    "df_submission = pd.DataFrame({\"ID\": df_test[\"ID\"], \"RENDIMIENTO_GLOBAL\": predicciones})"
   ]
  },
  {
   "cell_type": "markdown",
   "id": "icx4NuczAA8C",
   "metadata": {
    "id": "icx4NuczAA8C"
   },
   "source": [
    "### Crear archivo .csv"
   ]
  },
  {
   "cell_type": "code",
   "execution_count": null,
   "id": "5rXfjXDG73Di",
   "metadata": {
    "id": "5rXfjXDG73Di"
   },
   "outputs": [],
   "source": [
    "# Guardar el archivo de envío en formato CSV\n",
    "df_submission.to_csv(\"submission.csv\", index=False)\n",
    "print(\"Archivo 'submission.csv' creado con éxito.\")"
   ]
  },
  {
   "cell_type": "code",
   "execution_count": null,
   "id": "eMF0_boU78Q4",
   "metadata": {
    "id": "eMF0_boU78Q4"
   },
   "outputs": [],
   "source": [
    "df_submission.shape"
   ]
  },
  {
   "cell_type": "code",
   "execution_count": null,
   "id": "X0oOP1Wl790H",
   "metadata": {
    "id": "X0oOP1Wl790H"
   },
   "outputs": [],
   "source": [
    "!head submission_optimized.csv"
   ]
  },
  {
   "cell_type": "markdown",
   "id": "A-rS3mebAENF",
   "metadata": {
    "id": "A-rS3mebAENF"
   },
   "source": [
    "### Enviar archivo .csv a la competencia"
   ]
  },
  {
   "cell_type": "code",
   "execution_count": null,
   "id": "1PLeJxU27_P-",
   "metadata": {
    "id": "1PLeJxU27_P-"
   },
   "outputs": [],
   "source": [
    "!kaggle competitions submit -c udea-ai4eng-20242 -f submission.csv -m \"Manuela Sanchez Arenas modelo Regresion Logística\""
   ]
  },
  {
   "cell_type": "code",
   "execution_count": null,
   "id": "b84d75b2",
   "metadata": {},
   "outputs": [],
   "source": []
  }
 ],
 "metadata": {
  "colab": {
   "provenance": []
  },
  "kernelspec": {
   "display_name": "Python 3",
   "name": "python3"
  },
  "language_info": {
   "name": "python",
   "version": "3.12.4"
  }
 },
 "nbformat": 4,
 "nbformat_minor": 5
}
